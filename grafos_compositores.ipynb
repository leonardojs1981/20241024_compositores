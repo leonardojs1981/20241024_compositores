{
 "cells": [
  {
   "cell_type": "code",
   "execution_count": null,
   "id": "e08cdbbb",
   "metadata": {},
   "outputs": [],
   "source": [
    "import json\n",
    "import time\n",
    "import pickle\n",
    "import requests\n",
    "from bs4 import BeautifulSoup\n",
    "import numpy as np\n",
    "import pandas as pd\n",
    "import random\n",
    "from unidecode import unidecode\n",
    "import sys\n",
    "sys.setrecursionlimit(10000)\n",
    "import networkx as nx\n",
    "import matplotlib.pyplot as plt"
   ]
  },
  {
   "cell_type": "markdown",
   "id": "a7f06280",
   "metadata": {},
   "source": [
    "### 1. Obtendo lista de gêneros, artistas e músicas"
   ]
  },
  {
   "cell_type": "code",
   "execution_count": null,
   "id": "031c0335",
   "metadata": {},
   "outputs": [],
   "source": [
    "# Gêneros (todos)\n",
    "r = requests.get('https://www.letras.com.br/estilos')\n",
    "soup = BeautifulSoup(r.text)\n",
    "generos = [k.get(\"href\").replace(\"https://www.letras.com.br/estilos/\", \"\") for k in soup.find_all(\"a\") if \"/estilos/\" in k.get(\"href\")]\n",
    "\n",
    "# Selecionando os gêneros principais\n",
    "generos_ =  ['axe',\n",
    "             'blues',\n",
    "             'bossa-nova',\n",
    "             'brega',\n",
    "             'forro',\n",
    "             'funk',\n",
    "             'gospel',\n",
    "             'hard-rock',\n",
    "             'heavy-metal',\n",
    "             'hip-hop-rap',\n",
    "             'infantil',\n",
    "             'jazz',\n",
    "             'jovem-guarda',\n",
    "             'mpb',\n",
    "             'pagode',\n",
    "             'pop',\n",
    "             'poprock',\n",
    "             'post-rock',\n",
    "             'punk-rock',\n",
    "             'reggae',\n",
    "             'regional',\n",
    "             'rock-roll',\n",
    "             'romantico',\n",
    "             'samba',\n",
    "             'samba-enredo',\n",
    "             'sertanejo',\n",
    "             'soul',\n",
    "             'velha-guarda']"
   ]
  },
  {
   "cell_type": "code",
   "execution_count": null,
   "id": "2282f05e",
   "metadata": {},
   "outputs": [],
   "source": [
    "# Artistas\n",
    "\n",
    "def pega_lista_artistas(genero):\n",
    "    r = requests.get(\"https://www.letras.com.br/estilos/\"+genero)\n",
    "    soup = BeautifulSoup(r.text)\n",
    "    lista_artistas = list(set([k.get(\"href\").split(\"%\")[0].replace(\"https://www.letras.com.br/\", \"\") for k in soup.find_all(\"section\", class_=\"pb-0 pb-lg-5\")[-1].find(\"ul\", class_=\"row no-gutters\").find_all(\"a\")]))\n",
    "    return lista_artistas\n",
    "\n",
    "artistas_por_genero = {genero: pega_lista_artistas(genero) for genero in generos_}\n",
    "artistas = list(np.unique(np.array(sum(artistas_por_genero.values(), []))))\n"
   ]
  },
  {
   "cell_type": "code",
   "execution_count": null,
   "id": "466e34e3",
   "metadata": {},
   "outputs": [],
   "source": [
    "len(artistas)"
   ]
  },
  {
   "cell_type": "code",
   "execution_count": null,
   "id": "a208db01",
   "metadata": {},
   "outputs": [],
   "source": [
    "# Músicas\n",
    "def pega_lista_musicas(artista):\n",
    "    r = requests.get('https://www.letras.com.br/' + artista)\n",
    "    soup = BeautifulSoup(r.text)\n",
    "    lista_musicas = [k.get('href').replace('https://www.letras.com.br/'+artista+'/', '') for k in soup.find('ul', class_ = 'row').find_all('a')]\n",
    "    return lista_musicas"
   ]
  },
  {
   "cell_type": "code",
   "execution_count": null,
   "id": "4503d036",
   "metadata": {},
   "outputs": [],
   "source": [
    "musicas_por_artista = {}\n",
    "erros = []\n",
    "count = 0\n",
    "for artista in artistas:\n",
    "    count += 1\n",
    "    try:\n",
    "        musicas_por_artista[artista] = pega_lista_musicas(artista)\n",
    "    except:\n",
    "        erros.append(artista)\n",
    "        pass\n",
    "    if count % 100 == 0:\n",
    "        print(count, count/len(artistas), len(erros))"
   ]
  },
  {
   "cell_type": "code",
   "execution_count": null,
   "id": "a71b4364",
   "metadata": {},
   "outputs": [],
   "source": [
    "musicas = list(np.unique(np.array(sum(musicas_por_artista.values(), []))))\n",
    "len(musicas)"
   ]
  },
  {
   "cell_type": "markdown",
   "id": "8cc7640f",
   "metadata": {},
   "source": [
    "### 2. Compositores"
   ]
  },
  {
   "cell_type": "markdown",
   "id": "4b2443ee",
   "metadata": {},
   "source": [
    "##### 2.1. Baixando dados "
   ]
  },
  {
   "cell_type": "code",
   "execution_count": null,
   "id": "020120e3",
   "metadata": {},
   "outputs": [],
   "source": [
    "def busca_compositor_letras(url):\n",
    "    page = requests.get(url)\n",
    "    html_doc = page.text\n",
    "    soup = BeautifulSoup(html_doc, 'html.parser')\n",
    "\n",
    "    try:\n",
    "        compositor = soup.find(class_=\"mt-4 pt-4 lyrics-comp\").find('span').string\n",
    "        compositor\n",
    "    except:\n",
    "        compositor = 'sem_info'\n",
    "    return compositor"
   ]
  },
  {
   "cell_type": "code",
   "execution_count": null,
   "id": "e8158ad0",
   "metadata": {},
   "outputs": [],
   "source": [
    "lista_final = []\n",
    "#count_art = 0"
   ]
  },
  {
   "cell_type": "code",
   "execution_count": null,
   "id": "8156ae0b",
   "metadata": {},
   "outputs": [],
   "source": [
    "for artista in artistas[10000:]:\n",
    "    try:\n",
    "        count_mus = 0\n",
    "        lista_mus_art = musicas_por_artista[artista]\n",
    "\n",
    "        for musica in lista_mus_art:\n",
    "            try:\n",
    "                link = 'https://www.letras.com.br/'+artista+'/'+musica\n",
    "                composicao = busca_compositor_letras(link)\n",
    "                lista_final.append([artista, musica, composicao])\n",
    "                count_mus+=1\n",
    "            except:\n",
    "                try:\n",
    "                    link = 'https://www.letras.com.br/'+artista+'/'+musica\n",
    "                    composicao = busca_compositor_letras(link)\n",
    "                    lista_final.append([artista, musica, composicao])\n",
    "                    count_mus+=1\n",
    "                except:\n",
    "                    try:\n",
    "                        link = 'https://www.letras.com.br/'+artista+'/'+musica\n",
    "                        composicao = busca_compositor_letras(link)\n",
    "                        lista_final.append([artista, musica, composicao])\n",
    "                        count_mus+=1\n",
    "                    except Exception as error:\n",
    "                        print(error, musica, artista)\n",
    "                        pass\n",
    "\n",
    "        print(artista, count_art, count_art/len(artistas))\n",
    "    except:\n",
    "        pass\n",
    "    count_art+=1"
   ]
  },
  {
   "cell_type": "code",
   "execution_count": null,
   "id": "30b1e186",
   "metadata": {},
   "outputs": [],
   "source": [
    "# Gravando em 11 partes pois é muito pesado\n",
    "with open('lista_letras_d11.pkl', 'wb') as f:\n",
    "    pickle.dump(lista_final, f)"
   ]
  },
  {
   "cell_type": "markdown",
   "id": "27b7c760",
   "metadata": {},
   "source": [
    "##### 2.2. Tratando dados"
   ]
  },
  {
   "cell_type": "code",
   "execution_count": null,
   "id": "4b5a167b",
   "metadata": {},
   "outputs": [],
   "source": [
    "def ajuste_texto(texto):\n",
    "    for i in [' e ', '&', ',', '/', ' - ']:\n",
    "        texto = texto.replace(i, '|')\n",
    "        res = [unidecode(k).lower().strip().replace(' ', '-') for k in texto.split('|')]\n",
    "    return res\n"
   ]
  },
  {
   "cell_type": "code",
   "execution_count": null,
   "id": "73dbdb5b",
   "metadata": {},
   "outputs": [],
   "source": [
    "for i in ['d1', 'd2', 'd3', 'd4', 'd5', 'd6', 'd7', 'd8', 'd9', 'd10', 'd11']:\n",
    "\n",
    "    dict_grafo = {'ent_a': [], 'ent_b':[], 'desc': []}\n",
    "\n",
    "    with open('lista_letras_'+i+'.pkl', 'rb') as handle:\n",
    "        lista_ = pickle.load(handle)\n",
    "\n",
    "lista_tratada = [[k[0], k[1], ajuste_texto(k[2])] for k in lista_ if k[2] not in ['sem_info', None]]\n",
    "\n",
    "for info in lista_tratada:    \n",
    "    if type(info[2])==list:\n",
    "        for j in info[2]:\n",
    "            dict_grafo['interprete'].append(info[0])\n",
    "            dict_grafo['musica'].append(info[1])\n",
    "            dict_grafo['compositor'].append(j)            \n",
    "    else:\n",
    "        dict_grafo['interprete'].append(info[0])\n",
    "        dict_grafo['musica'].append(info[1])\n",
    "        dict_grafo['compositor'].append(info[2])\n",
    "        \n",
    "\n",
    "with open('dict_grafo_'+i+'.pkl', 'wb') as f:\n",
    "    pickle.dump(dict_grafo, f)\n",
    "print(i)"
   ]
  },
  {
   "cell_type": "markdown",
   "id": "90d5ca16",
   "metadata": {},
   "source": [
    "### 3. Grafo"
   ]
  },
  {
   "cell_type": "code",
   "execution_count": null,
   "id": "210c93e1",
   "metadata": {},
   "outputs": [],
   "source": [
    "dict_pre_grafo = {'interprete': [], 'musica':[], 'compositor': []}\n"
   ]
  },
  {
   "cell_type": "code",
   "execution_count": null,
   "id": "0e71cf38",
   "metadata": {},
   "outputs": [],
   "source": [
    "for i in ['d1', 'd2', 'd3', 'd4', 'd5', 'd6', 'd7', 'd8', 'd9', 'd10', 'd11']:\n",
    "    with open('dict_grafo_'+i+'.pkl', 'rb') as handle:\n",
    "        dict_ = pickle.load(handle)\n",
    "    dict_pre_grafo['interprete'] += dict_['interprete']\n",
    "    dict_pre_grafo['musica'] += dict_['musica']\n",
    "    dict_pre_grafo['compositor'] += dict_['compositor']\n",
    "    print(i)"
   ]
  },
  {
   "cell_type": "code",
   "execution_count": null,
   "id": "051191b1",
   "metadata": {},
   "outputs": [],
   "source": [
    "df_pre_grafo = pd.DataFrame(dict_pre_grafo)"
   ]
  },
  {
   "cell_type": "code",
   "execution_count": null,
   "id": "16c6f1c0",
   "metadata": {},
   "outputs": [],
   "source": [
    "len(df_pre_grafo)"
   ]
  },
  {
   "cell_type": "code",
   "execution_count": null,
   "id": "65dbb511",
   "metadata": {},
   "outputs": [],
   "source": [
    "df_compositores = df_pre_grafo[['compositor']].drop_duplicates().reset_index(drop=True)\n",
    "df_compositores = df_compositores.reset_index()\n",
    "df_compositores.head()"
   ]
  },
  {
   "cell_type": "code",
   "execution_count": null,
   "id": "e7ccafb5",
   "metadata": {},
   "outputs": [],
   "source": [
    "df_pre_grafo = df_pre_grafo.merge(df_compositores, on='compositor', how = 'left')\n",
    "df_pre_grafo['musica_idx'] = df_pre_grafo['musica'] + '_' + df_pre_grafo['index'].apply(lambda x: str(x))\n",
    "df_pre_grafo.head()"
   ]
  },
  {
   "cell_type": "code",
   "execution_count": null,
   "id": "26b12877",
   "metadata": {},
   "outputs": [],
   "source": [
    "# Pequenos ajustes de compositores com nomes escritos de forma diferente\n",
    "\n",
    "def substituicoes(nome):\n",
    "    if nome=='roberto-carlos-braga':\n",
    "        nome_ = 'roberto-carlos'\n",
    "    elif nome =='caetano-emmanuel-viana-teles-veloso':\n",
    "        nome_ = 'caetano-veloso'\n",
    "    elif nome =='gilberto-passos-gil-moreira':\n",
    "        nome_ = 'gilberto-gil'\n",
    "    elif nome =='antonio-carlos-jobim':\n",
    "        nome_ = 'tom-jobim'\n",
    "    elif nome =='francisco-buarque-de-hollanda':\n",
    "        nome_ = 'chico-buarque'\n",
    "    elif nome =='chico-buarque-de-hollanda':\n",
    "        nome_ = 'chico-buarque'\n",
    "    elif nome =='luiz-gonzaga-do-nascimento':\n",
    "        nome_ = 'luiz-gonzaga'\n",
    "    elif nome =='djavan-caetano-viana':\n",
    "        nome_ = 'djavan'\n",
    "    elif nome =='luiz-gonzaga-do-nascimento-junior':\n",
    "        nome_ = 'gonzaguinha'\n",
    "    elif nome =='fernando-rocha-brant':\n",
    "        nome_ = 'fernando-brant'\n",
    "    elif nome =='angenor-de-oliveira':\n",
    "        nome_ = 'cartola'\n",
    "    elif nome =='erasmo-esteves':\n",
    "        nome_ = 'erasmo-carlos'\n",
    "    else:\n",
    "        nome_ = nome\n",
    "    return nome_\n",
    "\n",
    "df_pre_grafo['interprete'] = df_pre_grafo['interprete'].map(substituicoes)\n",
    "df_pre_grafo['compositor'] = df_pre_grafo['compositor'].map(substituicoes)"
   ]
  },
  {
   "cell_type": "code",
   "execution_count": null,
   "id": "5f7f40c5",
   "metadata": {},
   "outputs": [],
   "source": [
    "G = nx.DiGraph()\n",
    "G.add_nodes_from(df_pre_grafo['interprete'])\n",
    "G.add_nodes_from(df_pre_grafo['musica_idx'])\n",
    "G.add_nodes_from(df_pre_grafo['compositor'])\n",
    "\n",
    "\n",
    "# Add edges from the DataFrame\n",
    "edges_comp = [(row['musica_idx'], row['compositor'], 2) for index, row in df_pre_grafo.iterrows()]\n",
    "G.add_weighted_edges_from(edges_comp)\n",
    "\n",
    "edges_grav = [(row['interprete'], row['musica_idx'], 1) for index, row in df_pre_grafo.iterrows()]\n",
    "G.add_weighted_edges_from(edges_grav)"
   ]
  },
  {
   "cell_type": "code",
   "execution_count": null,
   "id": "0658fb33",
   "metadata": {
    "scrolled": true
   },
   "outputs": [],
   "source": [
    "rank_eig_centrality = dict(sorted(nx.eigenvector_centrality(G, weight='weight').items(), key=lambda item: item[1], reverse=True))\n",
    "#rank_eig_centrality = dict(sorted(nx.eigenvector_centrality(G).items(), key=lambda item: item[1], reverse=True))\n",
    "\n",
    "rank_eig_centrality"
   ]
  },
  {
   "cell_type": "code",
   "execution_count": null,
   "id": "9f802554",
   "metadata": {},
   "outputs": [],
   "source": [
    "# Vou fazer um filtro dos 2000 compositores com mais composições, para \"limpar\" o grafo\n",
    "rank_compositores = df_pre_grafo[['compositor', 'musica_idx']].groupby(['compositor']).nunique().reset_index().sort_values('musica_idx', ascending=False).head(2000)\n",
    "lista_compositores_top2000 = list(rank_compositores['compositor'])\n"
   ]
  },
  {
   "cell_type": "code",
   "execution_count": null,
   "id": "3e75d6f5",
   "metadata": {},
   "outputs": [],
   "source": [
    "lista_rank = list(rank_eig_centrality.keys())\n",
    "lista_rank_compositores = [k for k in lista_rank if k in lista_compositores_top2000]\n",
    "\n",
    "print(lista_rank[:10])\n",
    "print(lista_rank_compositores[:10])"
   ]
  },
  {
   "cell_type": "code",
   "execution_count": null,
   "id": "bd60342a",
   "metadata": {
    "scrolled": true
   },
   "outputs": [],
   "source": [
    "rank_eig_centrality_ = {key: rank_eig_centrality[key] for key in lista_rank_compositores}\n",
    "rank_eig_centrality_"
   ]
  },
  {
   "cell_type": "code",
   "execution_count": null,
   "id": "88127b18",
   "metadata": {},
   "outputs": [],
   "source": [
    "list(rank_eig_centrality_.values())"
   ]
  },
  {
   "cell_type": "code",
   "execution_count": null,
   "id": "b499bb20",
   "metadata": {},
   "outputs": [],
   "source": [
    "rank_eig_centrality_df = pd.DataFrame({'compositor':list(rank_eig_centrality_.keys()), 'nota':list(rank_eig_centrality_.values())})\n",
    "rank_eig_centrality_df = rank_eig_centrality_df.reset_index()\n",
    "rank_eig_centrality_df['index'] = rank_eig_centrality_df['index']+1\n",
    "rank_eig_centrality_df\n"
   ]
  },
  {
   "cell_type": "code",
   "execution_count": null,
   "id": "2b029fcd",
   "metadata": {
    "scrolled": true
   },
   "outputs": [],
   "source": [
    "top_20 = rank_eig_centrality_df.head(20)\n",
    "top_20"
   ]
  },
  {
   "cell_type": "code",
   "execution_count": null,
   "id": "3424192b",
   "metadata": {},
   "outputs": [],
   "source": [
    "# Agregando informações\n",
    "\n",
    "def agrega_info_grafo(compositor):\n",
    "    df_ = df_pre_grafo[df_pre_grafo['compositor']==compositor]\n",
    "    num_interpretes = len([k for k in list(set(df_['interprete'])) if k !=compositor])\n",
    "    num_musicas = len(list(set(df_['musica'])))\n",
    "    posicao = top_20[top_20['compositor']==compositor].iloc[0]['index']\n",
    "    return f'Posição:{posicao}, Número de músicas: {num_musicas}, Número de intérpretes distintos: {num_interpretes}'"
   ]
  },
  {
   "cell_type": "code",
   "execution_count": null,
   "id": "b56e568b",
   "metadata": {},
   "outputs": [],
   "source": [
    "top_20['info_adicional'] = top_20['compositor'].map(agrega_info_grafo)\n"
   ]
  },
  {
   "cell_type": "markdown",
   "id": "d8c1ce5b",
   "metadata": {},
   "source": [
    "##### Resumo artista"
   ]
  },
  {
   "cell_type": "code",
   "execution_count": null,
   "id": "cbd8e964",
   "metadata": {
    "scrolled": true
   },
   "outputs": [],
   "source": [
    "artista = 'isolda'\n",
    "\n",
    "df_ = df_pre_grafo[df_pre_grafo['compositor']==artista]\n",
    "\n",
    "# Nós\n",
    "lista_interpretes = [k for k in list(set(df_['interprete'])) if k !=artista]\n",
    "lista_musicas = list(set(df_['musica']))\n",
    "\n",
    "nodes = pd.concat([pd.DataFrame({'nome':lista_interpretes, 'tipo':'interprete'}), \n",
    "                   pd.DataFrame({'nome':lista_musicas, 'tipo':'musica'}),\n",
    "                   pd.DataFrame({'nome':[artista], 'tipo':'compositor'})])\n",
    "\n",
    "# Arestas\n",
    "link_comp_mus = df_[['compositor', 'musica']]\n",
    "link_comp_mus.columns = ['ent_a', 'ent_b']\n",
    "link_mus_int = df_[['musica', 'interprete']]\n",
    "link_mus_int.columns = ['ent_a', 'ent_b']\n",
    "links = pd.DataFrame({'ent_a':[], 'ent_b':[]})\n",
    "links = pd.concat([links, link_comp_mus, link_mus_int])\n",
    "links = links[links['ent_b']!=artista]\n",
    "links = links.drop_duplicates().reset_index(drop=True)\n",
    "links"
   ]
  },
  {
   "cell_type": "code",
   "execution_count": null,
   "id": "05a002cd",
   "metadata": {},
   "outputs": [],
   "source": [
    "with pd.ExcelWriter(\"links.xlsx\") as writer:\n",
    "    nodes.to_excel(writer, sheet_name=\"nodes\", index=False)\n",
    "    links.to_excel(writer, sheet_name=\"links\", index=False)"
   ]
  },
  {
   "cell_type": "code",
   "execution_count": null,
   "id": "88930988",
   "metadata": {},
   "outputs": [],
   "source": [
    "rank_eig_centrality_df[rank_eig_centrality_df['compositor']==artista]"
   ]
  },
  {
   "cell_type": "code",
   "execution_count": null,
   "id": "005ce279",
   "metadata": {},
   "outputs": [],
   "source": [
    "# Plotando\n",
    "\n",
    "def plot_graph_with_two_layers(G, start_node, image_file='graph.png', pdf_file='graph.pdf'):\n",
    "    # Verifica se o nó inicial está no grafo\n",
    "    if start_node not in G:\n",
    "        raise ValueError(f\"Nó {start_node} não encontrado no grafo.\")\n",
    "    \n",
    "    # Primeira camada: conexões que partem do nó inicial\n",
    "    edges_first_layer = list(G.edges(start_node))\n",
    "    \n",
    "    # Obter os nós conectados na primeira camada\n",
    "    first_layer_nodes = {target for _, target in edges_first_layer}\n",
    "    \n",
    "    # Segunda camada: conexões que partem dos nós conectados na primeira camada\n",
    "    edges_second_layer = []\n",
    "    for node in first_layer_nodes:\n",
    "        edges_second_layer.extend(G.edges(node))\n",
    "\n",
    "    # Combina as duas camadas de arestas\n",
    "    all_edges = edges_first_layer + edges_second_layer\n",
    "\n",
    "    # Cria o subgrafo a partir de todas as arestas\n",
    "    subgraph = G.edge_subgraph(all_edges).copy()\n",
    "\n",
    "    # Adiciona o nó inicial ao subgrafo (caso ele não tenha arestas)\n",
    "    if len(edges_first_layer) == 0:\n",
    "        subgraph.add_node(start_node)\n",
    "\n",
    "    # Define a posição dos nós para exibição\n",
    "    pos = nx.spring_layout(subgraph)\n",
    "    \n",
    "    # Desenha o subgrafo\n",
    "    plt.figure(figsize=(80, 60))\n",
    "    nx.draw_networkx(subgraph, pos, with_labels=True, node_color='lightblue', edge_color='gray', node_size=500, font_size=12, font_color='black')\n",
    "    \n",
    "    # Exibe o diagrama\n",
    "    plt.title(f\"Conexões partindo do nó {start_node} e suas conexões\")\n",
    "    \n",
    "     # Salva a imagem em alta qualidade (PNG)\n",
    "    plt.savefig(image_file, format=\"png\", dpi=300)\n",
    "    \n",
    "    # Salva o grafo em formato PDF\n",
    "    plt.savefig(pdf_file, format=\"pdf\")\n",
    "    \n",
    "    plt.show()"
   ]
  },
  {
   "cell_type": "code",
   "execution_count": null,
   "id": "6aa43070",
   "metadata": {},
   "outputs": [],
   "source": [
    "plot_graph_with_two_layers(G, artista)"
   ]
  },
  {
   "cell_type": "code",
   "execution_count": null,
   "id": "8db42a1b",
   "metadata": {},
   "outputs": [],
   "source": []
  }
 ],
 "metadata": {
  "kernelspec": {
   "display_name": "Python 3 (ipykernel)",
   "language": "python",
   "name": "python3"
  },
  "language_info": {
   "codemirror_mode": {
    "name": "ipython",
    "version": 3
   },
   "file_extension": ".py",
   "mimetype": "text/x-python",
   "name": "python",
   "nbconvert_exporter": "python",
   "pygments_lexer": "ipython3",
   "version": "3.10.9"
  }
 },
 "nbformat": 4,
 "nbformat_minor": 5
}
